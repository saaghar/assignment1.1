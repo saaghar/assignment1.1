{
 "cells": [
  {
   "cell_type": "markdown",
   "metadata": {},
   "source": [
    "# Assignment 7: Neural Networks using Keras and Tensorflow\n",
    "\n",
    "Please see the associated document for questions. If you have problems with Keras and Tensorflow on your local installation please make sure they are updated. On Google Colab this notebook runs.\n",
    "\n",
    "## Group 32: Saghar Alvandi, Sahar Abedi\n",
    "### Hours spent on the task: Saghar 17h, Sahar 17h"
   ]
  },
  {
   "cell_type": "code",
   "execution_count": 38,
   "metadata": {
    "id": "02ZYZ-WmdhwH"
   },
   "outputs": [],
   "source": [
    "# imports\n",
    "from __future__ import print_function\n",
    "import keras\n",
    "from keras import utils as np_utils\n",
    "import tensorflow\n",
    "from keras.datasets import mnist\n",
    "from keras.models import Sequential\n",
    "from keras.layers import Dense, Dropout, Flatten\n",
    "from keras.layers import Conv2D, MaxPooling2D\n",
    "from keras import backend as K\n",
    "from keras import regularizers\n",
    "import tensorflow as tf\n",
    "from matplotlib import pyplot as plt\n",
    "import numpy as np\n"
   ]
  },
  {
   "cell_type": "code",
   "execution_count": 39,
   "metadata": {
    "colab": {
     "base_uri": "https://localhost:8080/"
    },
    "id": "BJRCoRmew8Zd",
    "outputId": "8a74f963-06c8-4ba7-fb03-889e43dfa15e"
   },
   "outputs": [],
   "source": [
    "# Hyper-parameters data-loading and formatting\n",
    "\n",
    "batch_size = 128\n",
    "num_classes = 10\n",
    "epochs = 10\n",
    "\n",
    "img_rows, img_cols = 28, 28\n",
    "\n",
    "(x_train, lbl_train), (x_test, lbl_test) = mnist.load_data()\n",
    "\n",
    "if K.image_data_format() == 'channels_first':\n",
    "    x_train = x_train.reshape(x_train.shape[0], 1, img_rows, img_cols)\n",
    "    x_test = x_test.reshape(x_test.shape[0], 1, img_rows, img_cols)\n",
    "    input_shape = (1, img_rows, img_cols)\n",
    "else:\n",
    "    x_train = x_train.reshape(x_train.shape[0], img_rows, img_cols, 1)\n",
    "    x_test = x_test.reshape(x_test.shape[0], img_rows, img_cols, 1)\n",
    "    input_shape = (img_rows, img_cols, 1)"
   ]
  },
  {
   "cell_type": "markdown",
   "metadata": {
    "id": "-I3g1RrZ0wpI"
   },
   "source": [
    "**Preprocessing**"
   ]
  },
  {
   "cell_type": "code",
   "execution_count": 40,
   "metadata": {
    "id": "UswCCQLS0s1I"
   },
   "outputs": [],
   "source": [
    "x_train = x_train.astype('float32')\n",
    "x_test = x_test.astype('float32')\n",
    "\n",
    "x_train /= 255\n",
    "x_test /= 255\n",
    "\n",
    "y_train = keras.utils.np_utils.to_categorical(lbl_train, num_classes)\n",
    "y_test = keras.utils.np_utils.to_categorical(lbl_test, num_classes)\n"
   ]
  },
  {
   "cell_type": "markdown",
   "metadata": {},
   "source": [
    "## 1. Preprocessing. In the notebook, the data is downloaded from an external server and imported into the notebook environment using the mnist.load_data() function call.\n",
    "\n",
    "### 1.1. Explain the data pre-processing highlighted in the notebook\n",
    "\n",
    "First, the data is normalized. The pixel values of the input data are normalized to be between 0 and 1 by dividing the pixel values by 255. This is done using the `x_train.astype()` and `x_test.astype()` functions. The reason for that is in the MNIST dataset, the pixel values of the images are represented as integers ranging from 0 to 255, with 0 being black and 255 being white. Normalizing the pixel values to be between 0 and 1 makes it easier for the model to learn the underlying patterns in the data because the values are all in the same range so the model can more easily compare the relative importance of each pixel.\n",
    "\n",
    "Then, the labels for each image in the dataset are converted into one-hot encoded vectors. This is done using the `to_categorical()` function from Keras' `utils.np_utils` module. This is done to transform the labels into a format that can be used for training a machine learning model. In the MNIST dataset, the labels are represented as integers from 0 to 9 and each integer corresponding to a specific digit. One-hot encoding transforms each label into a binary vector, where only one element is 'hot' or 'on' (has a value of 1), and the rest are 'cold' or 'off' (have a value of 0). The index of the 'hot' element corresponds to the integer label for the image. One-hot encoding allows the model to more easily learn to recognize the different digits in the dataset during training."
   ]
  },
  {
   "cell_type": "code",
   "execution_count": 41,
   "metadata": {
    "id": "N7Aer42gk1W9"
   },
   "outputs": [
    {
     "name": "stdout",
     "output_type": "stream",
     "text": [
      "Epoch 1/10\n",
      "469/469 [==============================] - 2s 3ms/step - loss: 0.4687 - accuracy: 0.8647 - val_loss: 0.2631 - val_accuracy: 0.9229\n",
      "Epoch 2/10\n",
      "469/469 [==============================] - 1s 3ms/step - loss: 0.2332 - accuracy: 0.9322 - val_loss: 0.1903 - val_accuracy: 0.9447\n",
      "Epoch 3/10\n",
      "469/469 [==============================] - 1s 3ms/step - loss: 0.1807 - accuracy: 0.9468 - val_loss: 0.1796 - val_accuracy: 0.9480\n",
      "Epoch 4/10\n",
      "469/469 [==============================] - 1s 3ms/step - loss: 0.1481 - accuracy: 0.9568 - val_loss: 0.1495 - val_accuracy: 0.9549\n",
      "Epoch 5/10\n",
      "469/469 [==============================] - 1s 3ms/step - loss: 0.1264 - accuracy: 0.9633 - val_loss: 0.1243 - val_accuracy: 0.9622\n",
      "Epoch 6/10\n",
      "469/469 [==============================] - 1s 3ms/step - loss: 0.1093 - accuracy: 0.9688 - val_loss: 0.1292 - val_accuracy: 0.9604\n",
      "Epoch 7/10\n",
      "469/469 [==============================] - 1s 3ms/step - loss: 0.0975 - accuracy: 0.9712 - val_loss: 0.1093 - val_accuracy: 0.9675\n",
      "Epoch 8/10\n",
      "469/469 [==============================] - 2s 3ms/step - loss: 0.0870 - accuracy: 0.9741 - val_loss: 0.1048 - val_accuracy: 0.9674\n",
      "Epoch 9/10\n",
      "469/469 [==============================] - 1s 3ms/step - loss: 0.0786 - accuracy: 0.9767 - val_loss: 0.0958 - val_accuracy: 0.9696\n",
      "Epoch 10/10\n",
      "469/469 [==============================] - 1s 3ms/step - loss: 0.0719 - accuracy: 0.9791 - val_loss: 0.0977 - val_accuracy: 0.9698\n",
      "Test loss: 0.09767882525920868, Test accuracy 0.9697999954223633\n"
     ]
    }
   ],
   "source": [
    "## Define model ##\n",
    "model = Sequential()\n",
    "\n",
    "model.add(Flatten())\n",
    "model.add(Dense(64, activation = 'relu'))\n",
    "model.add(Dense(64, activation = 'relu'))\n",
    "model.add(Dense(num_classes, activation='softmax'))\n",
    "\n",
    "\n",
    "model.compile(loss=keras.losses.categorical_crossentropy,\n",
    "               optimizer=tensorflow.keras.optimizers.SGD(learning_rate = 0.1),\n",
    "        metrics=['accuracy'],)\n",
    "\n",
    "fit_info = model.fit(x_train, y_train,\n",
    "           batch_size=batch_size,\n",
    "           epochs=epochs,\n",
    "           verbose=1,\n",
    "           validation_data=(x_test, y_test))\n",
    "score = model.evaluate(x_test, y_test, verbose=0)\n",
    "print('Test loss: {}, Test accuracy {}'.format(score[0], score[1]))"
   ]
  },
  {
   "cell_type": "markdown",
   "metadata": {},
   "source": [
    "## 2. Network model, training, and changing hyper-parameters\n",
    "\n",
    "### 2.1. How many layers does the network in the notebook have? How many neurons does each layer have? What activation functions and why are these appropriate for this application? What is the total number of parameters for the network? Why do the input and output layers have the dimensions they have?\n",
    "\n",
    "The network in the notebook has three layers: two hidden layers and one output layer.\n",
    "\n",
    "The first and second hidden layers have 64 neurons each, and use the Rectified Linear Unit (ReLU) activation function. ReLU is a common activation function used in deep learning because it is efficient and has been shown to work well in practice. The ReLU function returns the input if it is positive, and returns 0 if it is negative, which allows the network to learn non-linear relationships between the input features and output labels.\n",
    "The output layer has 10 neurons, which corresponds to the 10 possible digit classes in the MNIST dataset. The output layer uses the softmax activation function, which converts the raw output values of the network into probabilities for each class. The softmax function makes sure that the probabilities for all classes sum up to 1, which makes it a good choice for multi-class classification tasks.\n",
    "\n",
    "The total number of parameters in the network is 53,770. This number can be calculated as follows:\n",
    "The first layer is a Flatten layer, which does not have any trainable parameters.\n",
    "The first hidden layer has 64 neurons, and each of them is connected to the 784 input neurons. This gives a total of (784 * 64) + 64 = 50,240 trainable parameters.\n",
    "The second hidden layer also has 64 neurons, and each of them is connected to the 64 neurons in the previous layer. This gives a total of (64 * 64) + 64 = 4,160 trainable parameters.\n",
    "The output layer has 10 neurons, and each of them is connected to the 64 neurons in the previous layer. This gives a total of (64 * 10) + 10 = 650 trainable parameters.\n",
    "\n",
    "The input layer has dimensions of 28 x 28 pixels, which corresponds to the dimensions of the MNIST images. The output layer has dimensions of 10, which corresponds to the number of possible digit classes in the MNIST dataset.\n",
    "\n",
    "\n",
    "### 2.2. What loss function is used to train the network? What is the functional form (a mathematical expression) of the loss function? and how should we interpret it? Why is it appropriate for the problem at hand?\n",
    "\n",
    "The categorical cross-entropy loss function is used to train the network in the notebook. The mathematical expression for this loss function is:\n",
    "\n",
    "$-\\sum_{i=1}^{C}y_i\\log(p_i)$\n",
    "\n",
    "where $C$ is the number of classes, $y_i$ is the true label of the $i$-th class (it takes on a value of 0 or 1 depending on whether the instance belongs to the $i$-th class or not), and $p_i$ is the predicted probability of the $i$-th class.\n",
    "\n",
    "This loss function is usually used for multi-class classification problems, like the MNIST dataset used in this assignment. It punishes the model for making incorrect predictions by assigning a higher loss value when the predicted probabilities are far from the true labels. It is appropriate for this problem because we want to minimize the difference between the predicted probabilities and the true labels to accurately classify images of handwritten digits."
   ]
  },
  {
   "cell_type": "markdown",
   "metadata": {},
   "source": [
    "### 2.3. Train the network for 10 epochs and plot the training and validation accuracy for each epoch."
   ]
  },
  {
   "cell_type": "code",
   "execution_count": 42,
   "metadata": {},
   "outputs": [
    {
     "name": "stdout",
     "output_type": "stream",
     "text": [
      "Epoch 1/10\n",
      "469/469 [==============================] - 1s 3ms/step - loss: 0.0657 - accuracy: 0.9807 - val_loss: 0.0946 - val_accuracy: 0.9702\n",
      "Epoch 2/10\n",
      "469/469 [==============================] - 1s 3ms/step - loss: 0.0608 - accuracy: 0.9817 - val_loss: 0.0957 - val_accuracy: 0.9699\n",
      "Epoch 3/10\n",
      "469/469 [==============================] - 1s 3ms/step - loss: 0.0559 - accuracy: 0.9835 - val_loss: 0.0932 - val_accuracy: 0.9704\n",
      "Epoch 4/10\n",
      "469/469 [==============================] - 1s 3ms/step - loss: 0.0519 - accuracy: 0.9844 - val_loss: 0.0883 - val_accuracy: 0.9722\n",
      "Epoch 5/10\n",
      "469/469 [==============================] - 1s 3ms/step - loss: 0.0473 - accuracy: 0.9858 - val_loss: 0.0897 - val_accuracy: 0.9718\n",
      "Epoch 6/10\n",
      "469/469 [==============================] - 1s 3ms/step - loss: 0.0445 - accuracy: 0.9869 - val_loss: 0.0852 - val_accuracy: 0.9731\n",
      "Epoch 7/10\n",
      "469/469 [==============================] - 1s 3ms/step - loss: 0.0407 - accuracy: 0.9878 - val_loss: 0.0832 - val_accuracy: 0.9735\n",
      "Epoch 8/10\n",
      "469/469 [==============================] - 1s 3ms/step - loss: 0.0385 - accuracy: 0.9884 - val_loss: 0.0901 - val_accuracy: 0.9716\n",
      "Epoch 9/10\n",
      "469/469 [==============================] - 1s 3ms/step - loss: 0.0356 - accuracy: 0.9895 - val_loss: 0.0866 - val_accuracy: 0.9730\n",
      "Epoch 10/10\n",
      "469/469 [==============================] - 1s 3ms/step - loss: 0.0327 - accuracy: 0.9901 - val_loss: 0.0895 - val_accuracy: 0.9724\n"
     ]
    },
    {
     "data": {
      "image/png": "[encoded data removed]",
      "text/plain": [
       "<Figure size 640x480 with 1 Axes>"
      ]
     },
     "metadata": {},
     "output_type": "display_data"
    }
   ],
   "source": [
    "# Train the model for a specified number of epochs\n",
    "history = model.fit(x_train, y_train,\n",
    "                    batch_size=batch_size,\n",
    "                    epochs=epochs,\n",
    "                    verbose=1,\n",
    "                    validation_data=(x_test, y_test))\n",
    "\n",
    "# Plot the training and validation accuracy for each epoch\n",
    "plt.plot(history.history['accuracy'])      \n",
    "plt.plot(history.history['val_accuracy'])   \n",
    "plt.title('Model Accuracy')                  \n",
    "plt.ylabel('Accuracy')                       \n",
    "plt.xlabel('Epoch')                          \n",
    "plt.legend(['train', 'validation'], loc='lower right')  \n",
    "plt.show()                                \n"
   ]
  },
  {
   "cell_type": "markdown",
   "metadata": {},
   "source": [
    "### 2.4. Update the model to implement a three-layer neural network where the hidden layers have 500 and 300 hidden units respectively. Train for 40 epochs. What is the best validation accuracy you can achieve? – Geoff Hinton (a co-pioneer of Deep learning) claimed this network could reach a validation accuracy of 0.9847 (http://yann.lecun.com/exdb/mnist/) using weight decay (L2 regularization of weights (kernels): https://keras.io/api/layers/regularizers/). Implement weight decay on hidden units and train and select 5 regularization factors from 0.000001 to 0.001. Train 3 replicates networks for each regularization factor. Plot the final validation accuracy with standard deviation (computed from the replicates) as a function of the regularization factor. How close do you get to Hintons result? – If you do not get the same results, what factors may influence this? (hint: What information is not given by Hinton on the MNIST database that may influence Model training)"
   ]
  },
  {
   "cell_type": "code",
   "execution_count": 43,
   "metadata": {},
   "outputs": [
    {
     "name": "stdout",
     "output_type": "stream",
     "text": [
      "Epoch 1/40\n",
      "469/469 [==============================] - 5s 9ms/step - loss: 1.3219 - accuracy: 0.8892 - val_loss: 1.0903 - val_accuracy: 0.9297\n",
      "Epoch 2/40\n",
      "469/469 [==============================] - 4s 9ms/step - loss: 0.9794 - accuracy: 0.9427 - val_loss: 0.9113 - val_accuracy: 0.9403\n",
      "Epoch 3/40\n",
      "469/469 [==============================] - 4s 8ms/step - loss: 0.8126 - accuracy: 0.9575 - val_loss: 0.7403 - val_accuracy: 0.9614\n",
      "Epoch 4/40\n",
      "469/469 [==============================] - 4s 9ms/step - loss: 0.6856 - accuracy: 0.9653 - val_loss: 0.6416 - val_accuracy: 0.9646\n",
      "Epoch 5/40\n",
      "469/469 [==============================] - 4s 9ms/step - loss: 0.5848 - accuracy: 0.9707 - val_loss: 0.5469 - val_accuracy: 0.9688\n",
      "Epoch 6/40\n",
      "469/469 [==============================] - 4s 9ms/step - loss: 0.5036 - accuracy: 0.9742 - val_loss: 0.4831 - val_accuracy: 0.9697\n",
      "Epoch 7/40\n",
      "469/469 [==============================] - 4s 8ms/step - loss: 0.4363 - accuracy: 0.9770 - val_loss: 0.4181 - val_accuracy: 0.9728\n",
      "Epoch 8/40\n",
      "469/469 [==============================] - 4s 9ms/step - loss: 0.3820 - accuracy: 0.9793 - val_loss: 0.3695 - val_accuracy: 0.9750\n",
      "Epoch 9/40\n",
      "469/469 [==============================] - 4s 9ms/step - loss: 0.3358 - accuracy: 0.9813 - val_loss: 0.3304 - val_accuracy: 0.9755\n",
      "Epoch 10/40\n",
      "469/469 [==============================] - 4s 9ms/step - loss: 0.2981 - accuracy: 0.9827 - val_loss: 0.2970 - val_accuracy: 0.9770\n",
      "Epoch 11/40\n",
      "469/469 [==============================] - 4s 9ms/step - loss: 0.2666 - accuracy: 0.9840 - val_loss: 0.2760 - val_accuracy: 0.9749\n",
      "Epoch 12/40\n",
      "469/469 [==============================] - 4s 9ms/step - loss: 0.2395 - accuracy: 0.9848 - val_loss: 0.2470 - val_accuracy: 0.9780\n",
      "Epoch 13/40\n",
      "469/469 [==============================] - 5s 10ms/step - loss: 0.2177 - accuracy: 0.9859 - val_loss: 0.2323 - val_accuracy: 0.9758\n",
      "Epoch 14/40\n",
      "469/469 [==============================] - 4s 8ms/step - loss: 0.1997 - accuracy: 0.9867 - val_loss: 0.2099 - val_accuracy: 0.9787\n",
      "Epoch 15/40\n",
      "469/469 [==============================] - 4s 9ms/step - loss: 0.1838 - accuracy: 0.9872 - val_loss: 0.1965 - val_accuracy: 0.9790\n",
      "Epoch 16/40\n",
      "469/469 [==============================] - 4s 9ms/step - loss: 0.1705 - accuracy: 0.9877 - val_loss: 0.1842 - val_accuracy: 0.9803\n",
      "Epoch 17/40\n",
      "469/469 [==============================] - 4s 10ms/step - loss: 0.1599 - accuracy: 0.9884 - val_loss: 0.1798 - val_accuracy: 0.9772\n",
      "Epoch 18/40\n",
      "469/469 [==============================] - 4s 8ms/step - loss: 0.1501 - accuracy: 0.9888 - val_loss: 0.1642 - val_accuracy: 0.9821\n",
      "Epoch 19/40\n",
      "469/469 [==============================] - 4s 9ms/step - loss: 0.1421 - accuracy: 0.9885 - val_loss: 0.1670 - val_accuracy: 0.9777\n",
      "Epoch 20/40\n",
      "469/469 [==============================] - 4s 9ms/step - loss: 0.1350 - accuracy: 0.9895 - val_loss: 0.2256 - val_accuracy: 0.9541\n",
      "Epoch 21/40\n",
      "469/469 [==============================] - 4s 9ms/step - loss: 0.1297 - accuracy: 0.9896 - val_loss: 0.1519 - val_accuracy: 0.9797\n",
      "Epoch 22/40\n",
      "469/469 [==============================] - 4s 8ms/step - loss: 0.1246 - accuracy: 0.9898 - val_loss: 0.1432 - val_accuracy: 0.9803\n",
      "Epoch 23/40\n",
      "469/469 [==============================] - 4s 9ms/step - loss: 0.1198 - accuracy: 0.9902 - val_loss: 0.1400 - val_accuracy: 0.9815\n",
      "Epoch 24/40\n",
      "469/469 [==============================] - 4s 9ms/step - loss: 0.1161 - accuracy: 0.9904 - val_loss: 0.1381 - val_accuracy: 0.9819\n",
      "Epoch 25/40\n",
      "469/469 [==============================] - 4s 9ms/step - loss: 0.1125 - accuracy: 0.9910 - val_loss: 0.1359 - val_accuracy: 0.9802\n",
      "Epoch 26/40\n",
      "469/469 [==============================] - 4s 8ms/step - loss: 0.1098 - accuracy: 0.9911 - val_loss: 0.1400 - val_accuracy: 0.9782\n",
      "Epoch 27/40\n",
      "469/469 [==============================] - 4s 9ms/step - loss: 0.1071 - accuracy: 0.9912 - val_loss: 0.1322 - val_accuracy: 0.9819\n",
      "Epoch 28/40\n",
      "469/469 [==============================] - 5s 10ms/step - loss: 0.1047 - accuracy: 0.9916 - val_loss: 0.1327 - val_accuracy: 0.9800\n",
      "Epoch 29/40\n",
      "469/469 [==============================] - 4s 8ms/step - loss: 0.1033 - accuracy: 0.9919 - val_loss: 0.1268 - val_accuracy: 0.9814\n",
      "Epoch 30/40\n",
      "469/469 [==============================] - 4s 8ms/step - loss: 0.1009 - accuracy: 0.9919 - val_loss: 0.1270 - val_accuracy: 0.9809\n",
      "Epoch 31/40\n",
      "469/469 [==============================] - 4s 9ms/step - loss: 0.0993 - accuracy: 0.9920 - val_loss: 0.1384 - val_accuracy: 0.9789\n",
      "Epoch 32/40\n",
      "469/469 [==============================] - 4s 9ms/step - loss: 0.0985 - accuracy: 0.9921 - val_loss: 0.1353 - val_accuracy: 0.9768\n",
      "Epoch 33/40\n",
      "469/469 [==============================] - 4s 8ms/step - loss: 0.0965 - accuracy: 0.9925 - val_loss: 0.1255 - val_accuracy: 0.9810\n",
      "Epoch 34/40\n",
      "469/469 [==============================] - 4s 9ms/step - loss: 0.0959 - accuracy: 0.9926 - val_loss: 0.1192 - val_accuracy: 0.9820\n",
      "Epoch 35/40\n",
      "469/469 [==============================] - 4s 9ms/step - loss: 0.0947 - accuracy: 0.9929 - val_loss: 0.1219 - val_accuracy: 0.9820\n",
      "Epoch 36/40\n",
      "469/469 [==============================] - 4s 9ms/step - loss: 0.0934 - accuracy: 0.9927 - val_loss: 0.1213 - val_accuracy: 0.9823\n",
      "Epoch 37/40\n",
      "469/469 [==============================] - 4s 8ms/step - loss: 0.0932 - accuracy: 0.9928 - val_loss: 0.1176 - val_accuracy: 0.9824\n",
      "Epoch 38/40\n",
      "469/469 [==============================] - 4s 9ms/step - loss: 0.0916 - accuracy: 0.9929 - val_loss: 0.1170 - val_accuracy: 0.9830\n",
      "Epoch 39/40\n",
      "469/469 [==============================] - 4s 9ms/step - loss: 0.0907 - accuracy: 0.9931 - val_loss: 0.1171 - val_accuracy: 0.9820\n",
      "Epoch 40/40\n",
      "469/469 [==============================] - 4s 9ms/step - loss: 0.0897 - accuracy: 0.9934 - val_loss: 0.1414 - val_accuracy: 0.9742\n",
      "Test loss: 0.14138385653495789, Test accuracy 0.9742000102996826\n"
     ]
    },
    {
     "data": {
      "image/png": "[encoded data removed]",
      "text/plain": [
       "<Figure size 640x480 with 1 Axes>"
      ]
     },
     "metadata": {},
     "output_type": "display_data"
    }
   ],
   "source": [
    "# Define the model architecture\n",
    "model = Sequential()\n",
    "model.add(Flatten())\n",
    "model.add(Dense(500, activation='relu', kernel_regularizer=regularizers.l2(0.001)))\n",
    "model.add(Dense(300, activation='relu', kernel_regularizer=regularizers.l2(0.001)))\n",
    "model.add(Dense(num_classes, activation='softmax'))\n",
    "\n",
    "# Compile the model\n",
    "model.compile(loss=keras.losses.categorical_crossentropy,\n",
    "              optimizer=tensorflow.keras.optimizers.SGD(learning_rate=0.1),\n",
    "              metrics=['accuracy'])\n",
    "\n",
    "# Train the model for 40 epochs\n",
    "history = model.fit(x_train, y_train,\n",
    "                    batch_size=batch_size,\n",
    "                    epochs=40,\n",
    "                    verbose=1,\n",
    "                    validation_data=(x_test, y_test))\n",
    "\n",
    "# Compute the validation accuracy\n",
    "score = model.evaluate(x_test, y_test, verbose=0)\n",
    "print('Test loss: {}, Test accuracy {}'.format(score[0], score[1]))\n",
    "\n",
    "# Define a list of regularization factors to test\n",
    "reg_factors = [0.000001, 0.00001, 0.0001, 0.001]\n",
    "\n",
    "# Define the number of replicates to train for each factor\n",
    "num_replicates = 3\n",
    "\n",
    "# Define lists to store the results\n",
    "val_accs = []\n",
    "std_devs = []\n",
    "\n",
    "# Loop over the regularization factors\n",
    "for reg_factor in reg_factors:\n",
    "    # Define a list to store the validation accuracy for each replicate\n",
    "    val_acc_replicates = []\n",
    "    \n",
    "    # Train multiple replicates for each factor\n",
    "    for i in range(num_replicates):\n",
    "        # Define the model with the current regularization factor\n",
    "        model = Sequential()\n",
    "        model.add(Flatten())\n",
    "        model.add(Dense(500, activation='relu', kernel_regularizer=regularizers.l2(reg_factor)))\n",
    "        model.add(Dense(300, activation='relu', kernel_regularizer=regularizers.l2(reg_factor)))\n",
    "        model.add(Dense(num_classes, activation='softmax'))\n",
    "\n",
    "        # Compile the model\n",
    "        model.compile(loss=keras.losses.categorical_crossentropy,\n",
    "                      optimizer=tensorflow.keras.optimizers.SGD(learning_rate=0.1),\n",
    "                      metrics=['accuracy'])\n",
    "\n",
    "        # Train the model for 40 epochs\n",
    "        fit_info = model.fit(x_train, y_train,\n",
    "                             batch_size=batch_size,\n",
    "                             epochs=40,\n",
    "                             verbose=0,\n",
    "                             validation_data=(x_test, y_test))\n",
    "\n",
    "        # Evaluate the model on the test set and store the validation accuracy\n",
    "        score = model.evaluate(x_test, y_test, verbose=0)\n",
    "        val_acc_replicates.append(score[1])\n",
    "\n",
    "    # Calculate the mean and standard deviation of the validation accuracy for the current factor\n",
    "    mean_val_acc = sum(val_acc_replicates) / num_replicates\n",
    "    std_dev_val_acc = np.std(val_acc_replicates)\n",
    "    \n",
    "    # Append the results to the lists\n",
    "    val_accs.append(mean_val_acc)\n",
    "    std_devs.append(std_dev_val_acc)\n",
    "\n",
    "# Plot the validation accuracy as a function of the regularization factor with error bars showing the standard deviation\n",
    "plt.errorbar(reg_factors, val_accs, yerr=std_devs, fmt='o-', capsize=5)\n",
    "plt.xlabel('Regularization factor')\n",
    "plt.ylabel('Validation accuracy')\n",
    "plt.title('Effect of L2 Regularization on Validation Accuracy')\n",
    "plt.show()\n"
   ]
  },
  {
   "cell_type": "markdown",
   "metadata": {},
   "source": [
    "We were able to achieve a high validation accuracy of 0.9825, which is very close to Hinton's reported accuracy of 0.9847. \n",
    "\n",
    "There are various factors that can affect the performance of a machine learning model, such as the size and quality of the dataset, the complexity of the model architecture, and the choice of hyperparameters like the learning rate, batch size, and regularization strength. For the MNIST dataset specifically, factors like the preprocessing techniques applied to the images, the data augmentation methods used during training, and the optimization algorithm employed can also impact the model's performance. Also, there may be differences in implementation, random initialization of weights, and preprocessing of the MNIST dataset between our approach and Hinton's."
   ]
  },
  {
   "cell_type": "markdown",
   "metadata": {},
   "source": [
    "## 3. Convolutional layers\n",
    "### 3.1. Design a model that makes use of at least one convolutional layer – how performant a model can you get? -- According to the MNIST database it should be possible reach to 99% accuracy on the validation data. If you choose to use any layers apart from the convolutional layers and layers that you used in previous questions, you must describe what they do. If you do not reach 99% accuracy, report your best performance, and explain your attempts and thought process."
   ]
  },
  {
   "cell_type": "code",
   "execution_count": 44,
   "metadata": {},
   "outputs": [
    {
     "name": "stdout",
     "output_type": "stream",
     "text": [
      "Epoch 1/10\n",
      "469/469 [==============================] - 59s 125ms/step - loss: 0.1869 - accuracy: 0.9427 - val_loss: 0.0471 - val_accuracy: 0.9845\n",
      "Epoch 2/10\n",
      "469/469 [==============================] - 59s 126ms/step - loss: 0.0560 - accuracy: 0.9833 - val_loss: 0.0305 - val_accuracy: 0.9898\n",
      "Epoch 3/10\n",
      "469/469 [==============================] - 61s 130ms/step - loss: 0.0423 - accuracy: 0.9874 - val_loss: 0.0272 - val_accuracy: 0.9905\n",
      "Epoch 4/10\n",
      "469/469 [==============================] - 60s 128ms/step - loss: 0.0319 - accuracy: 0.9904 - val_loss: 0.0225 - val_accuracy: 0.9930\n",
      "Epoch 5/10\n",
      "469/469 [==============================] - 59s 126ms/step - loss: 0.0246 - accuracy: 0.9920 - val_loss: 0.0250 - val_accuracy: 0.9924\n",
      "Epoch 6/10\n",
      "469/469 [==============================] - 59s 127ms/step - loss: 0.0194 - accuracy: 0.9940 - val_loss: 0.0221 - val_accuracy: 0.9928\n",
      "Epoch 7/10\n",
      "469/469 [==============================] - 59s 126ms/step - loss: 0.0168 - accuracy: 0.9946 - val_loss: 0.0217 - val_accuracy: 0.9930\n",
      "Epoch 8/10\n",
      "469/469 [==============================] - 64s 136ms/step - loss: 0.0149 - accuracy: 0.9951 - val_loss: 0.0267 - val_accuracy: 0.9924\n",
      "Epoch 9/10\n",
      "469/469 [==============================] - 65s 139ms/step - loss: 0.0126 - accuracy: 0.9959 - val_loss: 0.0219 - val_accuracy: 0.9934\n",
      "Epoch 10/10\n",
      "469/469 [==============================] - 61s 130ms/step - loss: 0.0115 - accuracy: 0.9961 - val_loss: 0.0275 - val_accuracy: 0.9915\n"
     ]
    }
   ],
   "source": [
    "from tensorflow.keras.layers import Conv2D, MaxPooling2D, Flatten, Dense, Dropout\n",
    "from tensorflow.keras.optimizers import Adam\n",
    "\n",
    "# Define the model architecture\n",
    "model = Sequential()\n",
    "# Add a convolutional layer with 64 filters, each with a 3x3 kernel and ReLU activation\n",
    "model.add(Conv2D(64, kernel_size=(3, 3), activation='relu', input_shape=input_shape))\n",
    "# Add a max pooling layer with a pool size of 2x2\n",
    "model.add(MaxPooling2D(pool_size=(2, 2)))\n",
    "# Add another convolutional layer with 128 filters and a 3x3 kernel\n",
    "model.add(Conv2D(128, kernel_size=(3, 3), activation='relu'))\n",
    "# Add a max pooling layer with a pool size of 2x2\n",
    "model.add(MaxPooling2D(pool_size=(2, 2)))\n",
    "# Flatten the output from the previous layer\n",
    "model.add(Flatten())\n",
    "# Add a fully connected layer with 256 units and ReLU activation\n",
    "model.add(Dense(256, activation='relu'))\n",
    "# Add a dropout layer with a rate of 0.4\n",
    "model.add(Dropout(0.4))\n",
    "# Add a final fully connected layer with a softmax activation for classification\n",
    "model.add(Dense(num_classes, activation='softmax'))\n",
    "\n",
    "# Compile the model with categorical crossentropy loss, Adam optimizer with a learning rate of 0.001, and accuracy metrics\n",
    "model.compile(loss=keras.losses.categorical_crossentropy,\n",
    "              optimizer=Adam(learning_rate=0.001),\n",
    "              metrics=['accuracy'])\n",
    "\n",
    "# Train the model on the training data and validate on the testing data\n",
    "history = model.fit(x_train, y_train,\n",
    "                    batch_size=batch_size,\n",
    "                    epochs=10,\n",
    "                    verbose=1,\n",
    "                    validation_data=(x_test, y_test))\n",
    "\n"
   ]
  },
  {
   "cell_type": "markdown",
   "metadata": {},
   "source": [
    "The highest validation accuracy that we could achieve with this model is 99.3%. The model shows strong generalization ability bacause it achieves high accuracy on unseen data (validation set). There is a small performance gap between the training and validation accuracies, which shows that the model is not overfitting and is capable of generalizing well.\n",
    "\n",
    "The model architecture consists of convolutional and pooling layers for feature extraction, followed by fully connected layers for classification. The dropout helps in regularization, and the use of ReLU activation functions introduces non-linearity to capture complex patterns. Below is the summary of the model's architecture and layers:\n",
    "\n",
    "1. Convolutional Layer (64 filters, 3x3 kernel, ReLU activation):\n",
    "This layer performs convolutional operations on the input images. It uses 64 filters to extract 64 different feature maps. Each filter has a 3x3 receptive field (kernel) that scans the input image. The ReLU activation function introduces non-linearity, allowing the network to learn complex patterns.\n",
    "\n",
    "2. Max Pooling Layer (2x2 pool size):\n",
    "After the first convolutional layer, a max pooling operation is applied. It reduces the spatial dimensions of the feature maps by selecting the maximum value within each 2x2 region.\n",
    "\n",
    "3. Convolutional Layer (128 filters, 3x3 kernel, ReLU activation):\n",
    "Another convolutional layer is added to extract more high-level features. This layer has 128 filters, providing a larger number of feature maps for richer representations.\n",
    "\n",
    "4. Max Pooling Layer (2x2 pool size):\n",
    "Similar to the previous max pooling layer, this layer further reduces the spatial dimensions of the feature maps.\n",
    "\n",
    "5. Flatten Layer:\n",
    "After the max pooling layer, the feature maps are flattened into a 1D vector. This transformation is necessary to connect the convolutional layers to the fully connected layers.\n",
    "\n",
    "6. Fully Connected Layer (256 units, ReLU activation):\n",
    "A fully connected layer is added to learn complex relationships between the extracted features. It has 256 units, allowing for a higher dimensional space for feature representation. The ReLU activation function introduces non-linearity and enables the model to learn non-linear relationships.\n",
    "\n",
    "7. Dropout Layer (dropout rate of 0.4):\n",
    "Dropout is a regularization technique to prevent overfitting. This layer randomly sets a fraction (0.4 in this case) of the input units to 0 during training. It helps to reduce the reliance on specific features and encourages the model to learn more robust representations.\n",
    "\n",
    "8. Fully Connected Layer (softmax activation):\n",
    "The last layer is a fully connected layer with a softmax activation function. It has num_classes units, representing the number of classes in the classification task. The softmax activation produces the final probability distribution over the classes."
   ]
  },
  {
   "cell_type": "markdown",
   "metadata": {},
   "source": [
    "### 3.2. Discuss the differences and potential benefits of using convolutional layers over fully connected ones for the application?\n",
    "\n",
    "Convolutional layers are used to analyze images and extract important features like edges, lines, and textures. They work by sliding a filter over the image to extract these features and then combining them to form higher-level representations of the image. These layers are better than fully connected layers because they share weights, which reduces the number of parameters needed to train the model.\n",
    "\n",
    "Also, they are better at recognizing patterns regardless of their location in the image which makes them useful for tasks like image recognition. Generally, convolutional layers make image recognition models simpler, faster to train, and more accurate.\n"
   ]
  }
 ],
 "metadata": {
  "colab": {
   "collapsed_sections": [],
   "name": "Assignment_7_NN.ipynb",
   "provenance": []
  },
  "kernelspec": {
   "display_name": "Python 3 (ipykernel)",
   "language": "python",
   "name": "python3"
  },
  "language_info": {
   "codemirror_mode": {
    "name": "ipython",
    "version": 3
   },
   "file_extension": ".py",
   "mimetype": "text/x-python",
   "name": "python",
   "nbconvert_exporter": "python",
   "pygments_lexer": "ipython3",
   "version": "3.9.16"
  }
 },
 "nbformat": 4,
 "nbformat_minor": 1
}
